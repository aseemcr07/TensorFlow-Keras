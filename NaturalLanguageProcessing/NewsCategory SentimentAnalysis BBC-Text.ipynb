{
  "nbformat": 4,
  "nbformat_minor": 0,
  "metadata": {
    "colab": {
      "name": "Untitled11 (1).ipynb",
      "provenance": [],
      "collapsed_sections": []
    },
    "kernelspec": {
      "name": "python3",
      "display_name": "Python 3"
    }
  },
  "cells": [
    {
      "cell_type": "code",
      "metadata": {
        "id": "2fyxMkZgnBbX",
        "colab_type": "code",
        "colab": {}
      },
      "source": [
        "import os\n",
        "import csv\n",
        "import numpy as np\n",
        "import pandas as pd\n",
        "import matplotlib.pyplot as plt\n",
        "os.environ['TF_CPP_MIN_LOG_LEVEL'] = '2' \n",
        "import tensorflow as tf\n",
        "%matplotlib inline"
      ],
      "execution_count": 1,
      "outputs": []
    },
    {
      "cell_type": "code",
      "metadata": {
        "id": "F9h_hJC4nPpj",
        "colab_type": "code",
        "colab": {
          "base_uri": "https://localhost:8080/",
          "height": 204
        },
        "outputId": "d105b502-e00a-410d-a853-ef4cb09d180f"
      },
      "source": [
        "!wget --no-check-certificate \\\n",
        "    https://storage.googleapis.com/laurencemoroney-blog.appspot.com/bbc-text.csv \\\n",
        "    -O /tmp/bbc-text.csv"
      ],
      "execution_count": 2,
      "outputs": [
        {
          "output_type": "stream",
          "text": [
            "--2020-06-22 03:52:14--  https://storage.googleapis.com/laurencemoroney-blog.appspot.com/bbc-text.csv\n",
            "Resolving storage.googleapis.com (storage.googleapis.com)... 172.217.204.128, 2607:f8b0:400c:c0f::80\n",
            "Connecting to storage.googleapis.com (storage.googleapis.com)|172.217.204.128|:443... connected.\n",
            "HTTP request sent, awaiting response... 200 OK\n",
            "Length: 5057493 (4.8M) [application/octet-stream]\n",
            "Saving to: ‘/tmp/bbc-text.csv’\n",
            "\n",
            "\r/tmp/bbc-text.csv     0%[                    ]       0  --.-KB/s               \r/tmp/bbc-text.csv   100%[===================>]   4.82M  --.-KB/s    in 0.04s   \n",
            "\n",
            "2020-06-22 03:52:15 (108 MB/s) - ‘/tmp/bbc-text.csv’ saved [5057493/5057493]\n",
            "\n"
          ],
          "name": "stdout"
        }
      ]
    },
    {
      "cell_type": "code",
      "metadata": {
        "id": "DqxmgnNMnfSZ",
        "colab_type": "code",
        "colab": {
          "base_uri": "https://localhost:8080/",
          "height": 204
        },
        "outputId": "df2b81a0-7380-462e-9f26-3d653bd74a01"
      },
      "source": [
        "df = pd.read_csv(\"/tmp/bbc-text.csv\")\n",
        "df.head()"
      ],
      "execution_count": 3,
      "outputs": [
        {
          "output_type": "execute_result",
          "data": {
            "text/html": [
              "<div>\n",
              "<style scoped>\n",
              "    .dataframe tbody tr th:only-of-type {\n",
              "        vertical-align: middle;\n",
              "    }\n",
              "\n",
              "    .dataframe tbody tr th {\n",
              "        vertical-align: top;\n",
              "    }\n",
              "\n",
              "    .dataframe thead th {\n",
              "        text-align: right;\n",
              "    }\n",
              "</style>\n",
              "<table border=\"1\" class=\"dataframe\">\n",
              "  <thead>\n",
              "    <tr style=\"text-align: right;\">\n",
              "      <th></th>\n",
              "      <th>category</th>\n",
              "      <th>text</th>\n",
              "    </tr>\n",
              "  </thead>\n",
              "  <tbody>\n",
              "    <tr>\n",
              "      <th>0</th>\n",
              "      <td>tech</td>\n",
              "      <td>tv future in the hands of viewers with home th...</td>\n",
              "    </tr>\n",
              "    <tr>\n",
              "      <th>1</th>\n",
              "      <td>business</td>\n",
              "      <td>worldcom boss  left books alone  former worldc...</td>\n",
              "    </tr>\n",
              "    <tr>\n",
              "      <th>2</th>\n",
              "      <td>sport</td>\n",
              "      <td>tigers wary of farrell  gamble  leicester say ...</td>\n",
              "    </tr>\n",
              "    <tr>\n",
              "      <th>3</th>\n",
              "      <td>sport</td>\n",
              "      <td>yeading face newcastle in fa cup premiership s...</td>\n",
              "    </tr>\n",
              "    <tr>\n",
              "      <th>4</th>\n",
              "      <td>entertainment</td>\n",
              "      <td>ocean s twelve raids box office ocean s twelve...</td>\n",
              "    </tr>\n",
              "  </tbody>\n",
              "</table>\n",
              "</div>"
            ],
            "text/plain": [
              "        category                                               text\n",
              "0           tech  tv future in the hands of viewers with home th...\n",
              "1       business  worldcom boss  left books alone  former worldc...\n",
              "2          sport  tigers wary of farrell  gamble  leicester say ...\n",
              "3          sport  yeading face newcastle in fa cup premiership s...\n",
              "4  entertainment  ocean s twelve raids box office ocean s twelve..."
            ]
          },
          "metadata": {
            "tags": []
          },
          "execution_count": 3
        }
      ]
    },
    {
      "cell_type": "code",
      "metadata": {
        "id": "r130ZnzXnu5n",
        "colab_type": "code",
        "colab": {
          "base_uri": "https://localhost:8080/",
          "height": 173
        },
        "outputId": "22ba10e2-7bee-4671-f6ce-012c3925eb59"
      },
      "source": [
        "df.describe()"
      ],
      "execution_count": 4,
      "outputs": [
        {
          "output_type": "execute_result",
          "data": {
            "text/html": [
              "<div>\n",
              "<style scoped>\n",
              "    .dataframe tbody tr th:only-of-type {\n",
              "        vertical-align: middle;\n",
              "    }\n",
              "\n",
              "    .dataframe tbody tr th {\n",
              "        vertical-align: top;\n",
              "    }\n",
              "\n",
              "    .dataframe thead th {\n",
              "        text-align: right;\n",
              "    }\n",
              "</style>\n",
              "<table border=\"1\" class=\"dataframe\">\n",
              "  <thead>\n",
              "    <tr style=\"text-align: right;\">\n",
              "      <th></th>\n",
              "      <th>category</th>\n",
              "      <th>text</th>\n",
              "    </tr>\n",
              "  </thead>\n",
              "  <tbody>\n",
              "    <tr>\n",
              "      <th>count</th>\n",
              "      <td>2225</td>\n",
              "      <td>2225</td>\n",
              "    </tr>\n",
              "    <tr>\n",
              "      <th>unique</th>\n",
              "      <td>5</td>\n",
              "      <td>2126</td>\n",
              "    </tr>\n",
              "    <tr>\n",
              "      <th>top</th>\n",
              "      <td>sport</td>\n",
              "      <td>virus poses as christmas e-mail security firms...</td>\n",
              "    </tr>\n",
              "    <tr>\n",
              "      <th>freq</th>\n",
              "      <td>511</td>\n",
              "      <td>2</td>\n",
              "    </tr>\n",
              "  </tbody>\n",
              "</table>\n",
              "</div>"
            ],
            "text/plain": [
              "       category                                               text\n",
              "count      2225                                               2225\n",
              "unique        5                                               2126\n",
              "top       sport  virus poses as christmas e-mail security firms...\n",
              "freq        511                                                  2"
            ]
          },
          "metadata": {
            "tags": []
          },
          "execution_count": 4
        }
      ]
    },
    {
      "cell_type": "code",
      "metadata": {
        "id": "ZLN8Heqyn8Ln",
        "colab_type": "code",
        "colab": {
          "base_uri": "https://localhost:8080/",
          "height": 119
        },
        "outputId": "373a8485-f782-4a7a-efbd-3af3c0c7be7e"
      },
      "source": [
        "df['category'].value_counts()"
      ],
      "execution_count": 5,
      "outputs": [
        {
          "output_type": "execute_result",
          "data": {
            "text/plain": [
              "sport            511\n",
              "business         510\n",
              "politics         417\n",
              "tech             401\n",
              "entertainment    386\n",
              "Name: category, dtype: int64"
            ]
          },
          "metadata": {
            "tags": []
          },
          "execution_count": 5
        }
      ]
    },
    {
      "cell_type": "code",
      "metadata": {
        "id": "Mj0TzdNKonnv",
        "colab_type": "code",
        "colab": {
          "base_uri": "https://localhost:8080/",
          "height": 34
        },
        "outputId": "d04b905f-698e-4353-ae9e-bcdc606341fa"
      },
      "source": [
        "print(df.shape)"
      ],
      "execution_count": 6,
      "outputs": [
        {
          "output_type": "stream",
          "text": [
            "(2225, 2)\n"
          ],
          "name": "stdout"
        }
      ]
    },
    {
      "cell_type": "code",
      "metadata": {
        "id": "vS-rTj2NoNX2",
        "colab_type": "code",
        "colab": {
          "base_uri": "https://localhost:8080/",
          "height": 330
        },
        "outputId": "5b30f4d0-2e42-4945-e491-7cab173a57fb"
      },
      "source": [
        "import seaborn as sns\n",
        "sns.countplot(x='category',data=df)"
      ],
      "execution_count": 7,
      "outputs": [
        {
          "output_type": "stream",
          "text": [
            "/usr/local/lib/python3.6/dist-packages/statsmodels/tools/_testing.py:19: FutureWarning: pandas.util.testing is deprecated. Use the functions in the public API at pandas.testing instead.\n",
            "  import pandas.util.testing as tm\n"
          ],
          "name": "stderr"
        },
        {
          "output_type": "execute_result",
          "data": {
            "text/plain": [
              "<matplotlib.axes._subplots.AxesSubplot at 0x7ff38b6ee5c0>"
            ]
          },
          "metadata": {
            "tags": []
          },
          "execution_count": 7
        },
        {
          "output_type": "display_data",
          "data": {
            "image/png": "[encoded data removed]",
            "text/plain": [
              "<Figure size 432x288 with 1 Axes>"
            ]
          },
          "metadata": {
            "tags": [],
            "needs_background": "light"
          }
        }
      ]
    },
    {
      "cell_type": "code",
      "metadata": {
        "id": "hie8kzEKog81",
        "colab_type": "code",
        "colab": {
          "base_uri": "https://localhost:8080/",
          "height": 499
        },
        "outputId": "6adec844-2c5b-4c01-df18-ce345a0e4777"
      },
      "source": [
        "sns.set(font_scale=1.4)\n",
        "df['category'].value_counts().plot(kind='pie', figsize=(10, 7), rot=0)\n",
        "plt.xlabel(\"Categories\", labelpad=14)\n",
        "plt.ylabel(\"Total number\", labelpad=14)\n",
        "plt.title(\"Differen number of Headlines\", y=1.02)\n",
        "plt.legend(loc='best')\n",
        "plt.tight_layout()\n",
        "plt.show()"
      ],
      "execution_count": 8,
      "outputs": [
        {
          "output_type": "display_data",
          "data": {
            "image/png": "[encoded data removed]",
            "text/plain": [
              "<Figure size 720x504 with 1 Axes>"
            ]
          },
          "metadata": {
            "tags": []
          }
        }
      ]
    },
    {
      "cell_type": "code",
      "metadata": {
        "id": "Ce-3vkTMvHyy",
        "colab_type": "code",
        "colab": {}
      },
      "source": [
        "vocab_size = 1000\n",
        "embedding_dim = 16\n",
        "max_length = 120\n",
        "trunc_type='post'\n",
        "padding_type='post'\n",
        "oov_tok = \"<OOV>\"\n",
        "training_portion = .8"
      ],
      "execution_count": 10,
      "outputs": []
    },
    {
      "cell_type": "code",
      "metadata": {
        "id": "Gg_RDburuvyN",
        "colab_type": "code",
        "colab": {
          "base_uri": "https://localhost:8080/",
          "height": 34
        },
        "outputId": "343f198e-a8a9-4533-dbdb-f97a659595b8"
      },
      "source": [
        "sentences = []\n",
        "labels = []\n",
        "stopwords = [ \"a\", \"about\", \"above\", \"after\", \"again\", \"against\", \"all\", \"am\", \"an\", \"and\", \"any\", \"are\", \"as\", \"at\", \"be\", \"because\", \"been\", \"before\", \"being\", \"below\", \"between\", \"both\", \"but\", \"by\", \"could\", \"did\", \"do\", \"does\", \"doing\", \"down\", \"during\", \"each\", \"few\", \"for\", \"from\", \"further\", \"had\", \"has\", \"have\", \"having\", \"he\", \"he'd\", \"he'll\", \"he's\", \"her\", \"here\", \"here's\", \"hers\", \"herself\", \"him\", \"himself\", \"his\", \"how\", \"how's\", \"i\", \"i'd\", \"i'll\", \"i'm\", \"i've\", \"if\", \"in\", \"into\", \"is\", \"it\", \"it's\", \"its\", \"itself\", \"let's\", \"me\", \"more\", \"most\", \"my\", \"myself\", \"nor\", \"of\", \"on\", \"once\", \"only\", \"or\", \"other\", \"ought\", \"our\", \"ours\", \"ourselves\", \"out\", \"over\", \"own\", \"same\", \"she\", \"she'd\", \"she'll\", \"she's\", \"should\", \"so\", \"some\", \"such\", \"than\", \"that\", \"that's\", \"the\", \"their\", \"theirs\", \"them\", \"themselves\", \"then\", \"there\", \"there's\", \"these\", \"they\", \"they'd\", \"they'll\", \"they're\", \"they've\", \"this\", \"those\", \"through\", \"to\", \"too\", \"under\", \"until\", \"up\", \"very\", \"was\", \"we\", \"we'd\", \"we'll\", \"we're\", \"we've\", \"were\", \"what\", \"what's\", \"when\", \"when's\", \"where\", \"where's\", \"which\", \"while\", \"who\", \"who's\", \"whom\", \"why\", \"why's\", \"with\", \"would\", \"you\", \"you'd\", \"you'll\", \"you're\", \"you've\", \"your\", \"yours\", \"yourself\", \"yourselves\" ]\n",
        "print(len(stopwords))"
      ],
      "execution_count": 11,
      "outputs": [
        {
          "output_type": "stream",
          "text": [
            "153\n"
          ],
          "name": "stdout"
        }
      ]
    },
    {
      "cell_type": "code",
      "metadata": {
        "id": "KlaYtgXauzh6",
        "colab_type": "code",
        "colab": {
          "base_uri": "https://localhost:8080/",
          "height": 88
        },
        "outputId": "886e73a7-e0ce-44a3-97d7-9ca59fa819e5"
      },
      "source": [
        "with open(\"/tmp/bbc-text.csv\", 'r') as csvfile:\n",
        "    reader = csv.reader(csvfile, delimiter=',')\n",
        "    next(reader)\n",
        "    for row in reader:\n",
        "        labels.append(row[0])\n",
        "        sentence = row[1]\n",
        "        for word in stopwords:\n",
        "            token = \" \" + word + \" \"\n",
        "            sentence = sentence.replace(token, \" \")\n",
        "        sentences.append(sentence)\n",
        "\n",
        "print(f'Total number of sentences are {len(sentences)}')\n",
        "print(f'Total number of labels are {len(labels)}')\n",
        "print(sentences[0])"
      ],
      "execution_count": 12,
      "outputs": [
        {
          "output_type": "stream",
          "text": [
            "Total number of sentences are 2225\n",
            "Total number of labels are 2225\n",
            "tv future hands viewers home theatre systems  plasma high-definition tvs  digital video recorders moving living room  way people watch tv will radically different five years  time.  according expert panel gathered annual consumer electronics show las vegas discuss new technologies will impact one favourite pastimes. us leading trend  programmes content will delivered viewers via home networks  cable  satellite  telecoms companies  broadband service providers front rooms portable devices.  one talked-about technologies ces digital personal video recorders (dvr pvr). set-top boxes  like us s tivo uk s sky+ system  allow people record  store  play  pause forward wind tv programmes want.  essentially  technology allows much personalised tv. also built-in high-definition tv sets  big business japan us  slower take off europe lack high-definition programming. not can people forward wind adverts  can also forget abiding network channel schedules  putting together a-la-carte entertainment. us networks cable satellite companies worried means terms advertising revenues well  brand identity  viewer loyalty channels. although us leads technology moment  also concern raised europe  particularly growing uptake services like sky+.  happens today  will see nine months years  time uk   adam hume  bbc broadcast s futurologist told bbc news website. likes bbc  no issues lost advertising revenue yet. pressing issue moment commercial uk broadcasters  brand loyalty important everyone.  will talking content brands rather network brands   said tim hanlon  brand communications firm starcom mediavest.  reality broadband connections  anybody can producer content.  added:  challenge now hard promote programme much choice.   means  said stacey jolna  senior vice president tv guide tv group  way people find content want watch simplified tv viewers. means networks  us terms  channels take leaf google s book search engine future  instead scheduler help people find want watch. kind channel model might work younger ipod generation used taking control gadgets play them. might not suit everyone  panel recognised. older generations comfortable familiar schedules channel brands know getting. perhaps not want much choice put hands  mr hanlon suggested.  end  kids just diapers pushing buttons already - everything possible available   said mr hanlon.  ultimately  consumer will tell market want.   50 000 new gadgets technologies showcased ces  many enhancing tv-watching experience. high-definition tv sets everywhere many new models lcd (liquid crystal display) tvs launched dvr capability built  instead external boxes. one example launched show humax s 26-inch lcd tv 80-hour tivo dvr dvd recorder. one us s biggest satellite tv companies  directtv  even launched branded dvr show 100-hours recording capability  instant replay  search function. set can pause rewind tv 90 hours. microsoft chief bill gates announced pre-show keynote speech partnership tivo  called tivotogo  means people can play recorded programmes windows pcs mobile devices. reflect increasing trend freeing multimedia people can watch want  want.\n"
          ],
          "name": "stdout"
        }
      ]
    },
    {
      "cell_type": "code",
      "metadata": {
        "id": "vAiXFZkwu5fq",
        "colab_type": "code",
        "colab": {
          "base_uri": "https://localhost:8080/",
          "height": 102
        },
        "outputId": "2547e87d-ca43-40fd-8c40-d515e22c592a"
      },
      "source": [
        "train_size = int(len(sentences) * training_portion)\n",
        "\n",
        "train_sentences = sentences[:train_size]\n",
        "train_labels = labels[:train_size]\n",
        "\n",
        "validation_sentences = sentences[train_size:]\n",
        "validation_labels = labels[train_size:]\n",
        "\n",
        "print(\"Training size is {}\".format(train_size))\n",
        "print(\"Length of sentences in training set is {}\".format(len(train_sentences)))\n",
        "print(\"Length of labels in training set is {}\".format(len(train_labels)))\n",
        "print(\"Length of sentences in validation set is {}\".format(len(validation_sentences)))\n",
        "print(\"Length of labels in validation set is {}\".format(len(validation_labels)))"
      ],
      "execution_count": 13,
      "outputs": [
        {
          "output_type": "stream",
          "text": [
            "Training size is 1780\n",
            "Length of sentences in training set is 1780\n",
            "Length of labels in training set is 1780\n",
            "Length of sentences in validation set is 445\n",
            "Length of labels in validation set is 445\n"
          ],
          "name": "stdout"
        }
      ]
    },
    {
      "cell_type": "code",
      "metadata": {
        "id": "Qgqe8kKm2BlW",
        "colab_type": "code",
        "colab": {}
      },
      "source": [
        "from tensorflow.keras.preprocessing.text import Tokenizer\n",
        "from tensorflow.keras.preprocessing.sequence import pad_sequences"
      ],
      "execution_count": 14,
      "outputs": []
    },
    {
      "cell_type": "code",
      "metadata": {
        "id": "ihVpUWY9vAV5",
        "colab_type": "code",
        "colab": {}
      },
      "source": [
        "#tokenizing\n",
        "tokenizer = Tokenizer(num_words = vocab_size, oov_token=oov_tok)\n",
        "tokenizer.fit_on_texts(train_sentences)"
      ],
      "execution_count": 15,
      "outputs": []
    },
    {
      "cell_type": "code",
      "metadata": {
        "id": "NwBmi6TfvI3p",
        "colab_type": "code",
        "colab": {}
      },
      "source": [
        "#creating word index\n",
        "word_index = tokenizer.word_index\n",
        "print(word_index)"
      ],
      "execution_count": null,
      "outputs": []
    },
    {
      "cell_type": "code",
      "metadata": {
        "id": "OAhDnJR-vNap",
        "colab_type": "code",
        "colab": {}
      },
      "source": [
        "#creating sequences for training sentences\n",
        "train_sequences = tokenizer.texts_to_sequences(train_sentences)\n",
        "print(train_sequences)"
      ],
      "execution_count": null,
      "outputs": []
    },
    {
      "cell_type": "code",
      "metadata": {
        "id": "zRcR0Q-TvTMo",
        "colab_type": "code",
        "colab": {
          "base_uri": "https://localhost:8080/",
          "height": 54
        },
        "outputId": "e3874ead-ef05-448c-bd5c-236b4548d32b"
      },
      "source": [
        "print(train_sentences[0])"
      ],
      "execution_count": 18,
      "outputs": [
        {
          "output_type": "stream",
          "text": [
            "tv future hands viewers home theatre systems  plasma high-definition tvs  digital video recorders moving living room  way people watch tv will radically different five years  time.  according expert panel gathered annual consumer electronics show las vegas discuss new technologies will impact one favourite pastimes. us leading trend  programmes content will delivered viewers via home networks  cable  satellite  telecoms companies  broadband service providers front rooms portable devices.  one talked-about technologies ces digital personal video recorders (dvr pvr). set-top boxes  like us s tivo uk s sky+ system  allow people record  store  play  pause forward wind tv programmes want.  essentially  technology allows much personalised tv. also built-in high-definition tv sets  big business japan us  slower take off europe lack high-definition programming. not can people forward wind adverts  can also forget abiding network channel schedules  putting together a-la-carte entertainment. us networks cable satellite companies worried means terms advertising revenues well  brand identity  viewer loyalty channels. although us leads technology moment  also concern raised europe  particularly growing uptake services like sky+.  happens today  will see nine months years  time uk   adam hume  bbc broadcast s futurologist told bbc news website. likes bbc  no issues lost advertising revenue yet. pressing issue moment commercial uk broadcasters  brand loyalty important everyone.  will talking content brands rather network brands   said tim hanlon  brand communications firm starcom mediavest.  reality broadband connections  anybody can producer content.  added:  challenge now hard promote programme much choice.   means  said stacey jolna  senior vice president tv guide tv group  way people find content want watch simplified tv viewers. means networks  us terms  channels take leaf google s book search engine future  instead scheduler help people find want watch. kind channel model might work younger ipod generation used taking control gadgets play them. might not suit everyone  panel recognised. older generations comfortable familiar schedules channel brands know getting. perhaps not want much choice put hands  mr hanlon suggested.  end  kids just diapers pushing buttons already - everything possible available   said mr hanlon.  ultimately  consumer will tell market want.   50 000 new gadgets technologies showcased ces  many enhancing tv-watching experience. high-definition tv sets everywhere many new models lcd (liquid crystal display) tvs launched dvr capability built  instead external boxes. one example launched show humax s 26-inch lcd tv 80-hour tivo dvr dvd recorder. one us s biggest satellite tv companies  directtv  even launched branded dvr show 100-hours recording capability  instant replay  search function. set can pause rewind tv 90 hours. microsoft chief bill gates announced pre-show keynote speech partnership tivo  called tivotogo  means people can play recorded programmes windows pcs mobile devices. reflect increasing trend freeing multimedia people can watch want  want.\n"
          ],
          "name": "stdout"
        }
      ]
    },
    {
      "cell_type": "code",
      "metadata": {
        "id": "8rqfsXb8vV-o",
        "colab_type": "code",
        "colab": {
          "base_uri": "https://localhost:8080/",
          "height": 34
        },
        "outputId": "175b4de5-18fc-41af-d4c8-74016392c786"
      },
      "source": [
        "print(word_index[\"tv\"])\n",
        "#if my outcome is 99 then it's fine"
      ],
      "execution_count": 19,
      "outputs": [
        {
          "output_type": "stream",
          "text": [
            "99\n"
          ],
          "name": "stdout"
        }
      ]
    },
    {
      "cell_type": "code",
      "metadata": {
        "id": "zBmgk8kgvYS4",
        "colab_type": "code",
        "colab": {
          "base_uri": "https://localhost:8080/",
          "height": 51
        },
        "outputId": "346aeb78-ee1c-490f-9946-45003d459027"
      },
      "source": [
        "print(\"Sequence length of first sentence in training set is\",len(train_sequences[0]))\n",
        "print(\"Sequence length of second sentence in training set is\",len(train_sequences[1]))\n",
        "#there is a difference between length of all these sentence sequences\n",
        "# so i'll be using post padding and maxlen function to make their length same i.e 120"
      ],
      "execution_count": 20,
      "outputs": [
        {
          "output_type": "stream",
          "text": [
            "Sequence length of first sentence in training set is 449\n",
            "Sequence length of second sentence in training set is 200\n"
          ],
          "name": "stdout"
        }
      ]
    },
    {
      "cell_type": "code",
      "metadata": {
        "id": "cNvAQt9lvbg5",
        "colab_type": "code",
        "colab": {
          "base_uri": "https://localhost:8080/",
          "height": 170
        },
        "outputId": "88f4a522-1559-4b92-baff-b5f247f9d1d1"
      },
      "source": [
        "# now i'm creating padding sequences\n",
        "train_padded = pad_sequences(train_sequences, padding=padding_type, maxlen=max_length)\n",
        "print(train_padded)\n",
        "print(\"***********\")\n",
        "print(\"Length of padded sentence in training set is\",len(train_padded[0]))"
      ],
      "execution_count": 21,
      "outputs": [
        {
          "output_type": "stream",
          "text": [
            "[[454 466   3 ... 907  85  85]\n",
            " [  1   6   1 ...   1   1   1]\n",
            " [925   1   1 ...   1  30   1]\n",
            " ...\n",
            " [669   1 448 ... 248   1 845]\n",
            " [  1   1 293 ...   1   1  96]\n",
            " [  1   1 975 ...   1   1 343]]\n",
            "***********\n",
            "Length of padded sentence in training set is 120\n"
          ],
          "name": "stdout"
        }
      ]
    },
    {
      "cell_type": "code",
      "metadata": {
        "id": "8LDjx6BXvhk5",
        "colab_type": "code",
        "colab": {
          "base_uri": "https://localhost:8080/",
          "height": 85
        },
        "outputId": "1c843f12-ac3d-4ca5-966e-df354d67387f"
      },
      "source": [
        "print(\"length of first sentence was \",len(train_sequences[0]))\n",
        "print(\"length of first sentence after padding is \", len(train_padded[0]))\n",
        "\n",
        "print(\"length of second sentence was \",len(train_sequences[1]))\n",
        "print(\"length of second sentence after padding is \", len(train_padded[1]))"
      ],
      "execution_count": 22,
      "outputs": [
        {
          "output_type": "stream",
          "text": [
            "length of first sentence was  449\n",
            "length of first sentence after padding is  120\n",
            "length of second sentence was  200\n",
            "length of second sentence after padding is  120\n"
          ],
          "name": "stdout"
        }
      ]
    },
    {
      "cell_type": "code",
      "metadata": {
        "id": "hSwWYkORvk1p",
        "colab_type": "code",
        "colab": {
          "base_uri": "https://localhost:8080/",
          "height": 71
        },
        "outputId": "055438c8-9ace-4039-cc40-080ace56ad43"
      },
      "source": [
        "# now doing the same for validation set\n",
        "# creating sequence\n",
        "validation_sequences = tokenizer.texts_to_sequences(validation_sentences)\n",
        "print(\"Length of first sentence sequence is\",len(validation_sequences[0]))\n",
        "print(validation_sequences[0])"
      ],
      "execution_count": 23,
      "outputs": [
        {
          "output_type": "stream",
          "text": [
            "Length of first sentence sequence is 160\n",
            "[1, 1, 112, 24, 226, 276, 1, 132, 1, 1, 3, 4, 112, 24, 1, 61, 28, 493, 1, 674, 903, 3, 1, 1, 1, 26, 5, 1, 1, 66, 2, 1, 219, 1, 1, 1, 498, 1, 136, 4, 364, 1, 3, 10, 1, 317, 1, 1, 2, 528, 1, 18, 328, 28, 1, 1, 326, 1, 1, 891, 1, 1, 1, 3, 301, 353, 1, 1, 508, 1, 1, 1, 569, 1, 7, 109, 642, 558, 1, 276, 1, 1, 1, 1, 37, 1, 76, 1, 289, 28, 1, 505, 1, 28, 51, 10, 222, 1, 1, 1, 1, 1, 628, 268, 1, 16, 80, 1, 1, 1, 1, 1, 499, 311, 26, 1, 628, 1, 72, 1, 72, 1, 301, 1, 1, 28, 1, 136, 776, 1, 1, 1, 326, 455, 1, 1, 681, 1, 1, 674, 903, 1, 1, 271, 422, 289, 1, 8, 1, 202, 28, 493, 1, 1, 151, 23, 786, 528, 1, 1]\n"
          ],
          "name": "stdout"
        }
      ]
    },
    {
      "cell_type": "code",
      "metadata": {
        "id": "LRgz3FJ2vqr4",
        "colab_type": "code",
        "colab": {
          "base_uri": "https://localhost:8080/",
          "height": 34
        },
        "outputId": "81915a16-97df-4c6d-e4ce-7925eff8b93f"
      },
      "source": [
        "validation_padded = pad_sequences(validation_sequences, padding=padding_type, maxlen=max_length)\n",
        "print(f'After padding length of sequence is {len(validation_padded[0])}')"
      ],
      "execution_count": 24,
      "outputs": [
        {
          "output_type": "stream",
          "text": [
            "After padding length of sequence is 120\n"
          ],
          "name": "stdout"
        }
      ]
    },
    {
      "cell_type": "code",
      "metadata": {
        "id": "CuCuy8Zhvwq9",
        "colab_type": "code",
        "colab": {
          "base_uri": "https://localhost:8080/",
          "height": 153
        },
        "outputId": "eb6f5001-b713-4cef-9188-619cbfaa31f9"
      },
      "source": [
        "# converting label text(tags) to tokens and then converting it into np.array\n",
        "label_tokenizer = Tokenizer()\n",
        "label_tokenizer.fit_on_texts(labels)\n",
        "\n",
        "training_label_seq = np.array(label_tokenizer.texts_to_sequences(train_labels))\n",
        "validation_label_seq = np.array(label_tokenizer.texts_to_sequences(validation_labels))\n",
        "\n",
        "print(training_label_seq[0])\n",
        "print(training_label_seq[1])\n",
        "print(training_label_seq[2])\n",
        "print(training_label_seq.shape)\n",
        "\n",
        "print(validation_label_seq[0])\n",
        "print(validation_label_seq[1])\n",
        "print(validation_label_seq[2])\n",
        "print(validation_label_seq.shape)"
      ],
      "execution_count": 25,
      "outputs": [
        {
          "output_type": "stream",
          "text": [
            "[4]\n",
            "[2]\n",
            "[1]\n",
            "(1780, 1)\n",
            "[5]\n",
            "[4]\n",
            "[3]\n",
            "(445, 1)\n"
          ],
          "name": "stdout"
        }
      ]
    },
    {
      "cell_type": "code",
      "metadata": {
        "id": "m0V4yTLSv4T3",
        "colab_type": "code",
        "colab": {
          "base_uri": "https://localhost:8080/",
          "height": 289
        },
        "outputId": "5946a33b-1c24-4b02-dcac-4582a1956d41"
      },
      "source": [
        "model = tf.keras.Sequential([\n",
        "    tf.keras.layers.Embedding(vocab_size, embedding_dim, input_length=max_length),\n",
        "    tf.keras.layers.GlobalAveragePooling1D(),\n",
        "    tf.keras.layers.Dense(24, activation='relu'),\n",
        "    tf.keras.layers.Dense(6, activation='softmax')\n",
        "])\n",
        "model.compile(loss='sparse_categorical_crossentropy',optimizer='adam',metrics=['accuracy'])\n",
        "model.summary()"
      ],
      "execution_count": 26,
      "outputs": [
        {
          "output_type": "stream",
          "text": [
            "Model: \"sequential\"\n",
            "_________________________________________________________________\n",
            "Layer (type)                 Output Shape              Param #   \n",
            "=================================================================\n",
            "embedding (Embedding)        (None, 120, 16)           16000     \n",
            "_________________________________________________________________\n",
            "global_average_pooling1d (Gl (None, 16)                0         \n",
            "_________________________________________________________________\n",
            "dense (Dense)                (None, 24)                408       \n",
            "_________________________________________________________________\n",
            "dense_1 (Dense)              (None, 6)                 150       \n",
            "=================================================================\n",
            "Total params: 16,558\n",
            "Trainable params: 16,558\n",
            "Non-trainable params: 0\n",
            "_________________________________________________________________\n"
          ],
          "name": "stdout"
        }
      ]
    },
    {
      "cell_type": "code",
      "metadata": {
        "id": "__WS77Cgv8CI",
        "colab_type": "code",
        "colab": {
          "base_uri": "https://localhost:8080/",
          "height": 1000
        },
        "outputId": "1b10e3ea-0493-4bc0-b9a4-4b02bffe3b36"
      },
      "source": [
        "num_epochs = 30\n",
        "history = model.fit(train_padded, training_label_seq, epochs=num_epochs, validation_data=(validation_padded, validation_label_seq), verbose=2)"
      ],
      "execution_count": 27,
      "outputs": [
        {
          "output_type": "stream",
          "text": [
            "Epoch 1/30\n",
            "56/56 - 0s - loss: 1.7545 - accuracy: 0.2618 - val_loss: 1.7118 - val_accuracy: 0.4966\n",
            "Epoch 2/30\n",
            "56/56 - 0s - loss: 1.6606 - accuracy: 0.4933 - val_loss: 1.6106 - val_accuracy: 0.4517\n",
            "Epoch 3/30\n",
            "56/56 - 0s - loss: 1.5504 - accuracy: 0.4787 - val_loss: 1.4951 - val_accuracy: 0.6697\n",
            "Epoch 4/30\n",
            "56/56 - 0s - loss: 1.4111 - accuracy: 0.7742 - val_loss: 1.3386 - val_accuracy: 0.8382\n",
            "Epoch 5/30\n",
            "56/56 - 0s - loss: 1.2283 - accuracy: 0.8427 - val_loss: 1.1505 - val_accuracy: 0.8427\n",
            "Epoch 6/30\n",
            "56/56 - 0s - loss: 1.0190 - accuracy: 0.8955 - val_loss: 0.9511 - val_accuracy: 0.8764\n",
            "Epoch 7/30\n",
            "56/56 - 0s - loss: 0.8224 - accuracy: 0.9011 - val_loss: 0.7909 - val_accuracy: 0.8831\n",
            "Epoch 8/30\n",
            "56/56 - 0s - loss: 0.6628 - accuracy: 0.9208 - val_loss: 0.6575 - val_accuracy: 0.8989\n",
            "Epoch 9/30\n",
            "56/56 - 0s - loss: 0.5371 - accuracy: 0.9326 - val_loss: 0.5609 - val_accuracy: 0.8876\n",
            "Epoch 10/30\n",
            "56/56 - 0s - loss: 0.4410 - accuracy: 0.9410 - val_loss: 0.4861 - val_accuracy: 0.9079\n",
            "Epoch 11/30\n",
            "56/56 - 0s - loss: 0.3681 - accuracy: 0.9449 - val_loss: 0.4314 - val_accuracy: 0.9124\n",
            "Epoch 12/30\n",
            "56/56 - 0s - loss: 0.3088 - accuracy: 0.9545 - val_loss: 0.3942 - val_accuracy: 0.9101\n",
            "Epoch 13/30\n",
            "56/56 - 0s - loss: 0.2660 - accuracy: 0.9596 - val_loss: 0.3593 - val_accuracy: 0.9146\n",
            "Epoch 14/30\n",
            "56/56 - 0s - loss: 0.2300 - accuracy: 0.9612 - val_loss: 0.3344 - val_accuracy: 0.9146\n",
            "Epoch 15/30\n",
            "56/56 - 0s - loss: 0.2009 - accuracy: 0.9669 - val_loss: 0.3167 - val_accuracy: 0.9169\n",
            "Epoch 16/30\n",
            "56/56 - 0s - loss: 0.1780 - accuracy: 0.9753 - val_loss: 0.2984 - val_accuracy: 0.9169\n",
            "Epoch 17/30\n",
            "56/56 - 0s - loss: 0.1587 - accuracy: 0.9775 - val_loss: 0.2867 - val_accuracy: 0.9281\n",
            "Epoch 18/30\n",
            "56/56 - 0s - loss: 0.1412 - accuracy: 0.9787 - val_loss: 0.2772 - val_accuracy: 0.9213\n",
            "Epoch 19/30\n",
            "56/56 - 0s - loss: 0.1269 - accuracy: 0.9831 - val_loss: 0.2665 - val_accuracy: 0.9236\n",
            "Epoch 20/30\n",
            "56/56 - 0s - loss: 0.1144 - accuracy: 0.9865 - val_loss: 0.2645 - val_accuracy: 0.9258\n",
            "Epoch 21/30\n",
            "56/56 - 0s - loss: 0.1038 - accuracy: 0.9882 - val_loss: 0.2556 - val_accuracy: 0.9326\n",
            "Epoch 22/30\n",
            "56/56 - 0s - loss: 0.0936 - accuracy: 0.9899 - val_loss: 0.2498 - val_accuracy: 0.9303\n",
            "Epoch 23/30\n",
            "56/56 - 0s - loss: 0.0851 - accuracy: 0.9916 - val_loss: 0.2447 - val_accuracy: 0.9371\n",
            "Epoch 24/30\n",
            "56/56 - 0s - loss: 0.0773 - accuracy: 0.9938 - val_loss: 0.2413 - val_accuracy: 0.9326\n",
            "Epoch 25/30\n",
            "56/56 - 0s - loss: 0.0708 - accuracy: 0.9944 - val_loss: 0.2385 - val_accuracy: 0.9326\n",
            "Epoch 26/30\n",
            "56/56 - 0s - loss: 0.0644 - accuracy: 0.9961 - val_loss: 0.2373 - val_accuracy: 0.9326\n",
            "Epoch 27/30\n",
            "56/56 - 0s - loss: 0.0586 - accuracy: 0.9966 - val_loss: 0.2348 - val_accuracy: 0.9371\n",
            "Epoch 28/30\n",
            "56/56 - 0s - loss: 0.0534 - accuracy: 0.9983 - val_loss: 0.2331 - val_accuracy: 0.9371\n",
            "Epoch 29/30\n",
            "56/56 - 0s - loss: 0.0488 - accuracy: 0.9983 - val_loss: 0.2322 - val_accuracy: 0.9371\n",
            "Epoch 30/30\n",
            "56/56 - 0s - loss: 0.0450 - accuracy: 0.9989 - val_loss: 0.2308 - val_accuracy: 0.9348\n"
          ],
          "name": "stdout"
        }
      ]
    },
    {
      "cell_type": "code",
      "metadata": {
        "id": "7uvtNfVAv_CX",
        "colab_type": "code",
        "colab": {
          "base_uri": "https://localhost:8080/",
          "height": 301
        },
        "outputId": "c56117a4-e179-4ee4-f9d4-5c4058001c62"
      },
      "source": [
        "import matplotlib.pyplot as plt\n",
        "\n",
        "\n",
        "def plot_graphs(history, string):\n",
        "  plt.plot(history.history[string])\n",
        "  plt.plot(history.history['val_'+string])\n",
        "  plt.xlabel(\"Epochs\")\n",
        "  plt.ylim(0.00,1.00)\n",
        "  plt.ylabel(string)\n",
        "  plt.legend([string, 'val_'+string],loc='best')\n",
        "  plt.show()\n",
        "  \n",
        "plot_graphs(history, \"accuracy\")"
      ],
      "execution_count": 28,
      "outputs": [
        {
          "output_type": "display_data",
          "data": {
            "image/png": "[encoded data removed]",
            "text/plain": [
              "<Figure size 432x288 with 1 Axes>"
            ]
          },
          "metadata": {
            "tags": []
          }
        }
      ]
    },
    {
      "cell_type": "code",
      "metadata": {
        "id": "6X9elpGbwSEw",
        "colab_type": "code",
        "colab": {
          "base_uri": "https://localhost:8080/",
          "height": 301
        },
        "outputId": "11913f8f-36f4-4fec-d69d-48ee80a3fdd1"
      },
      "source": [
        "plot_graphs(history, \"loss\")"
      ],
      "execution_count": 29,
      "outputs": [
        {
          "output_type": "display_data",
          "data": {
            "image/png": "[encoded data removed]",
            "text/plain": [
              "<Figure size 432x288 with 1 Axes>"
            ]
          },
          "metadata": {
            "tags": []
          }
        }
      ]
    },
    {
      "cell_type": "markdown",
      "metadata": {
        "id": "rRadwKCw5W-k",
        "colab_type": "text"
      },
      "source": [
        "# Predictions\n",
        "## Still have to figure out what's going wrong"
      ]
    },
    {
      "cell_type": "code",
      "metadata": {
        "id": "gkABTPJB37Gg",
        "colab_type": "code",
        "colab": {
          "base_uri": "https://localhost:8080/",
          "height": 34
        },
        "outputId": "86f693ca-8daf-4fa7-b0b8-3485b2d75696"
      },
      "source": [
        "label_classes = label_tokenizer.word_index\n",
        "print(label_classes)"
      ],
      "execution_count": 30,
      "outputs": [
        {
          "output_type": "stream",
          "text": [
            "{'sport': 1, 'business': 2, 'politics': 3, 'tech': 4, 'entertainment': 5}\n"
          ],
          "name": "stdout"
        }
      ]
    },
    {
      "cell_type": "code",
      "metadata": {
        "id": "g6YMuemH38ly",
        "colab_type": "code",
        "colab": {
          "base_uri": "https://localhost:8080/",
          "height": 34
        },
        "outputId": "3a6eaf9e-0ebb-4308-b946-b9751d253b78"
      },
      "source": [
        "classlist = []\n",
        "for key,value in label_classes.items():\n",
        "  classlist.append(key)\n",
        "print(classlist)"
      ],
      "execution_count": 31,
      "outputs": [
        {
          "output_type": "stream",
          "text": [
            "['sport', 'business', 'politics', 'tech', 'entertainment']\n"
          ],
          "name": "stdout"
        }
      ]
    },
    {
      "cell_type": "code",
      "metadata": {
        "id": "q2g80lx-5bDT",
        "colab_type": "code",
        "colab": {
          "base_uri": "https://localhost:8080/",
          "height": 224
        },
        "outputId": "c768e63e-d2d5-4e65-8d63-02c2d51d03db"
      },
      "source": [
        "print(\"Actual sentences vs labels:\")\n",
        "for j in range(15,25):\n",
        "  print(f'{validation_labels[j]} : {validation_sentences[j]}')"
      ],
      "execution_count": 32,
      "outputs": [
        {
          "output_type": "stream",
          "text": [
            "Actual sentences vs labels:\n",
            "entertainment : us tv cuts nudity bbc film us tv network editing bbc films  dirty war avoid showing front nude woman scrubbed fictional chemical attack.  not worth showing  non-essential  nude scenes indecency complaints  aggressively pursued  us tv watchdogs  said pbs  jacoba atlas. dirty war - screened uncut bbc one last september - depicts dirty bomb attack city london. also screened uncut us cable channel hbo 24 january. pbs said will use extra footage broadcast  showing woman  discreet angle  instead.  us federal communications commission fined cbs $550 000 (£306 814) last autumn singer janet jackson s  wardrobe malfunction   breast exposed dance routine justin timberlake. many us networks broadcasters now nervous airing nudity  violence bad language. ms atlas said pbs put financially risk showed uncut version dirty war  also deter many 170 individual stations airing  important film .  want pick battles   said. added pbs  private  non-profit media enterprise owned operated nation s 349 public television stations  bolder screening non-fiction historical programming. pbs seen virtually us homes tv  describes  trusted community resource  serving nearly 100 million people week.\n",
            "entertainment : french honour director parker british film director sir alan parker made officer order arts letters  one france s highest cultural honours.  sir alan received decoration paris wednesday french culture minister renaud donnedieu de vabres.  explored possibilities film immense talent   mr de vabres said presented award. parker praised french films  saying:  hollywood  created modern cinema  uses commodity.  told minister:  honoured thus distinguished france  flag carrier cinema throughout world.  sir alan s films include oscar-winning fame plus midnight express commitments.  founding member director s guild great britain  former chairman uk film council board british film institute.  work campaigns  shown us artist occupies essential place contemporary society   mr de vabres said.  dreams show us  links weave  question world mirror work.  also cited director s 2003 film life david gale  kevin spacey played man death row  proof  veritable artistic commitment death sentence .\n",
            "business : standoff  deutsche s lse bid deutsche boerse investors unhappy london stock exchange bid will no chance throw exchange s management may  reuters says.  sunday times reported hedge funds tci atticus planning demand removal group s chairman chief executive. deutsche boerse told news agency reuters move wait may s annual general meeting. investors want deutsche return cash shareholders rather bid.  long-term investors experienced removing management. not scared take conclusion time   atticus  david slager told sunday times. however  deutsche boerse told reuters:  tci s request removal supervisory board will considered annual general meeting may 25.   sunday times reported tci drawing list heavyweight executives replace deutsche s chairman rolf breuer chief executive werner seifert. group owns 5% deutsche - enough demand extraordinary general meeting call shareholders oust german exchange s management. german law deutsche not need investor backing make takeover bid. tci atticus opposed lse bid time saying destroy shareholder value  better spent share buyback. deutsche competition pan-european bourse euronext take london exchange. many commentators suggested bidding war two break out. however  move wait march office fair trading completes investigation competition aspects pair s takeover proposals.\n",
            "sport : chepkemei hit big ban kenya s athletics body suspended two-time london marathon runner-up susan chepkemei competition end year.  athletics kenya (ak) issued ban chepkemei failed turn cross country training camp embu.  banned local international competitions   said ak chief isaiah kiplagat.  shall communicate decision iaaf meet directors world.  29-year-old finished second paula radcliffe 2002 2003 london races  also edged epic new york marathon contest last year.  ban will prevent two-time world half-marathon silver medallist challenging radcliffe year s london event april. global sports communications  chepkemei s management company  said wanted run world cross country championships march. ak maintained making example chepkemei warning kenyan athletes.  taking action order salvage pride   said kiplagat.  accused no teeth bite agents ruling us.  ka also threatened three-time women s short-course champion edith masai similar ban reports feigned injury avoid running cross country world championships true. masai missed national trials early february  included provisional team proviso ran regional competition. failed run event  citing leg injury.\n",
            "politics : peace demo appeal rejected peace protestors lost landmark appeal police actions stopping anti-war demonstration days start iraq war.  appealed high court decision not unlawful police forcibly turn protestors away near raf fairford  glos  2003. police also sought overturn breach human rights ruling arising case. sitting wednesday  three appeal court judges dismissed appeals. challenging decisions two judges high court february year. followed action police  three coachloads people searched detained way raf fairford forced return london police escort. demonstrators appealed finding lord justice may mr justice harrison not unlawful police turn passengers away.  police urging lord chief justice lord justices clarke rix overturn ruling breached protestors  human rights detaining coaches. craig mackey  assistant chief constable gloucestershire police  said:  always considered responses proportionate decisions day based intelligence.  said no one coaches accepted responsibility items found coaches including body armour  smoke bomb five shields.  given circumstances  fact raf fairford  military installations uk  scene increasingly destructive disorder weeks preceding incident  police commander ground made decision turn back coaches.  day one vigorously defended decision  made genuine concern coaches allowed proceed resulted disorder criminal damage raf fairford.  fairford coach action  representing 80 people appealed police actions  say prepared take case european court human rights. action supported amnesty international liberty.\n",
            "tech : microsoft makes anti-piracy move microsoft says clamping people running pirated versions windows operating system restricting access security features.  windows genuine advantage scheme means people will prove software genuine mid-2005. will still allow unauthorised copies get crucial security fixes via automatic updates  options  limited . microsoft releases regular security updates software protect pcs. either pcs detect updates automatically users manually download fixes microsoft s site. running pirated windows programs not access downloads  add-ons  software giant offers.  people try manually download security patches will let microsoft run automated checking procedure computer give identification number.  microsoft s regular patches releases newly-found security flaws important stop worms  viruses threats penetrating pcs. security experts concerned restricting access patches mean rise attacks threats  pcs left unprotected. graham cluley  senior consultant security firm sophos  told bbc news website positive decision.  sounds like decision allow critical security patches remain available legitimate illegitimate users windows good news everyone uses net   said. windows genuine advantage first introduced pilot scheme september 2004 english-language versions windows.  microsoft s windows operating system heavily exploited virus writers widespread constantly seeking new security loopholes take advantage of. company trying tackle security threats whilst cracking pirated software time. software piracy cost company billions  says. company announced earlier january releasing security tools clean pcs harbouring viruses spyware  90% pcs infected with. virus-fighting program  updated monthly  precursor microsoft s dedicated anti-virus software. last year introduced windows xp counterfeit project  uk-based pilot scheme  ran november december. scheme meant anyone pre-installed copies operating system pcs bought november replace counterfeit versions windows xp legal ones free. also increasing efforts squash software piracy china  norway czech republic  pirated software huge problem  offering discounts legitimate software users pirated copies windows.  china particular problem  piracy estimated 92%   said mr cluley.\n",
            "business : continental  may run cash  shares continental airlines tumbled firm warned run cash.  filing us regulators airline warned  inadequate liquidity  fails reduce wage costs $500m end february. continental also said  not make cuts  expects lose  hundreds millions dollars  2005 current market conditions. failure make cutbacks may also push reduce fleet  group said. shares fifth biggest us carrier fallen 6.87% news $10.44 1830 gmt.  without reduction wage benefit costs reasonable prospect future profitability  believe ability raise additional money financings uncertain   continental said filing us securities exchange commission (sec).  airlines faced tough conditions recent years  amid terrorism fears since 11 september world trade centre attack 2001. despite passengers returning skies  record-high fuel costs fare wars prompted competition low cost carriers taken toll. houston-based continental now debt pension payments nearly $984m must pay off year. company working streamline operations - managed save $1.1bn costs without cutting jobs. two weeks  ago group also announced able shave $48m year costs changes wage benefits us-based management clerical staff.\n",
            "sport : souness eyes summer move owen newcastle boss graeme souness lining summer move england real madrid striker michael owen.  sees owen ideal replacement alan shearer  due retire summer  although hopes persuade shearer carry on.  michael category players excite fans re monitoring   told bbc newcastle.  great centre-forward 25 don t think re ones monitoring situation real.  souness also hinted thinks shearer may carry despite stated intent retire end season. believes prospect breaking jackie milburn s club scoring record may influence striker s decision.  milburn scored 200 league cup goals 1946 1957  shearer currently 187 goals name.  without giving much away  confident will next season   said souness.  can t imagine leaving without breaking jackie milburn s scoring record.  souness also revealed tried bring back nolberto solano january transfer window. peruvian international sold aston villa year ago phone-in bbc newcastle  souness said tried re-sign  villa not interested selling.  former rangers liverpool boss also looking bring number new acquisitions current campaign completed.  m three  four five new players summer - got lots targets   said.  don t think will wait last day season say: `who going target now\n",
            "entertainment : super size wins writers  award super size director morgan spurlock won writers guild america s award documentary feature writing.  oscar-nominated film followed spurlock ate mcdonald s fast food entire month. spurlock given award special ceremony roosevelt hotel hollywood tuesday. organisers said rising popularity documentary films led honour writer documentary screenplay first time.  producer brian grazer presented award spurlock film s backers  roadside attractions  samuel goldwyn films showtime independent films. spurlock set discover effect living nothing mcdonald s month  upgrading supersize portions offered. film followed 25lb weight gain health effects body  including liver cholesterol levels. mcdonald s announced scrap  supersized  meals last year  denied move result negative publicity created spurlock s film. spurlock given award day european court human rights ruled two uk activists given legal aid long fight mcdonald s libel action. helen steel david morris  north london  dubbed  mclibel two   found guilty 1990s trial libelling company leaflet handing end case high court london ruled mcdonald s libelled awarded company £60 000 damages  later reduced £40 000 appeal. found leaflet true aspects.\n",
            "tech : dublin hi-tech labs shut dublin s hi-tech research laboratory  media labs europe  shut down.  research centre  started irish government massachusetts institute technology  hotbed technology concepts. since opening 2000  centre developed ideas  implants teeth  also aimed digital hub start-ups area. centre supposed self-funded  failed attract private cash injection needs. statement  media labs europe said decision close taken neither irish government prestigious us-based massachusetts institute technology (mit) willing fund it. prime minister bertie ahern wanted centre become big draw smaller hi-tech companies  attempt regenerate area.  three dozen small firms attracted area  thought effects dot.com recession damaged labs  long-term survival. labs needed 10 million euros (us$13 million) year corporate sponsors survive.  end  deep long recession   said simon jones  labs  managing director. ian pearson  bt s futurologist  told bbc news website closure  real shame . bt just one companies worked labs  looking rfid tag developments video conferencing.  lot talented  creative people came great ideas helping ensure greater benefits technology society.  no doubt individuals will quickly snapped research labs  synergies working team will lost.   noel dempsey  government s communications minister  said mr ahern  committed  project.   know  disappointed come this. time seemed right thing   said.  unfortunately model not sustainable one current climate.   five years  innovative unusual ideas technologies developed. recent months  14 patent applications filed labs. many concepts fed science  engineering  psychology well technology  thought ideas commercially viable near-term. several research teams explored humans react technologies ways entirely different. human connectedness group  example  developed iband  bracelet stored exchanged information relationships. information beamed another wearer two people shook hands. projects looked using human senses  like touch  interact devoices embedded environment  body itself. one project examined brainwaves directly control computer game. labs  set old guinness brewery  housed around 100 people  made staff  researchers  students  collaborators part-time undergraduate students. thought 50 people will lose jobs labs close 1 february. according latest accounts  media lab europe said spent 8.16 million euros (about us$10.6 million) 2003 raised just 2.56 million euros (us$3.3 million).\n"
          ],
          "name": "stdout"
        }
      ]
    },
    {
      "cell_type": "code",
      "metadata": {
        "id": "zlAH0-_A50AA",
        "colab_type": "code",
        "colab": {
          "base_uri": "https://localhost:8080/",
          "height": 394
        },
        "outputId": "eb0821a7-cb24-4637-8878-6164c57c8279"
      },
      "source": [
        "print(\"My model's predictions\")\n",
        "for j in range(15,25):\n",
        "  sample_sentence_seq = tokenizer.texts_to_sequences([validation_sentences[j]])\n",
        "  sample_padded_seq = pad_sequences(sample_sentence_seq)\n",
        "  predicted_token = np.argmax(model.predict(sample_padded_seq))\n",
        "  predicted_category = classlist[predicted_token-1]\n",
        "  print(f'{predicted_category} : {validation_sentences[j]}')"
      ],
      "execution_count": 33,
      "outputs": [
        {
          "output_type": "stream",
          "text": [
            "My model's predictions\n",
            "WARNING:tensorflow:Model was constructed with shape (None, 120) for input Tensor(\"embedding_input:0\", shape=(None, 120), dtype=float32), but it was called on an input with incompatible shape (None, 173).\n",
            "entertainment : us tv cuts nudity bbc film us tv network editing bbc films  dirty war avoid showing front nude woman scrubbed fictional chemical attack.  not worth showing  non-essential  nude scenes indecency complaints  aggressively pursued  us tv watchdogs  said pbs  jacoba atlas. dirty war - screened uncut bbc one last september - depicts dirty bomb attack city london. also screened uncut us cable channel hbo 24 january. pbs said will use extra footage broadcast  showing woman  discreet angle  instead.  us federal communications commission fined cbs $550 000 (£306 814) last autumn singer janet jackson s  wardrobe malfunction   breast exposed dance routine justin timberlake. many us networks broadcasters now nervous airing nudity  violence bad language. ms atlas said pbs put financially risk showed uncut version dirty war  also deter many 170 individual stations airing  important film .  want pick battles   said. added pbs  private  non-profit media enterprise owned operated nation s 349 public television stations  bolder screening non-fiction historical programming. pbs seen virtually us homes tv  describes  trusted community resource  serving nearly 100 million people week.\n",
            "WARNING:tensorflow:Model was constructed with shape (None, 120) for input Tensor(\"embedding_input:0\", shape=(None, 120), dtype=float32), but it was called on an input with incompatible shape (None, 139).\n",
            "entertainment : french honour director parker british film director sir alan parker made officer order arts letters  one france s highest cultural honours.  sir alan received decoration paris wednesday french culture minister renaud donnedieu de vabres.  explored possibilities film immense talent   mr de vabres said presented award. parker praised french films  saying:  hollywood  created modern cinema  uses commodity.  told minister:  honoured thus distinguished france  flag carrier cinema throughout world.  sir alan s films include oscar-winning fame plus midnight express commitments.  founding member director s guild great britain  former chairman uk film council board british film institute.  work campaigns  shown us artist occupies essential place contemporary society   mr de vabres said.  dreams show us  links weave  question world mirror work.  also cited director s 2003 film life david gale  kevin spacey played man death row  proof  veritable artistic commitment death sentence .\n",
            "WARNING:tensorflow:Model was constructed with shape (None, 120) for input Tensor(\"embedding_input:0\", shape=(None, 120), dtype=float32), but it was called on an input with incompatible shape (None, 184).\n",
            "business : standoff  deutsche s lse bid deutsche boerse investors unhappy london stock exchange bid will no chance throw exchange s management may  reuters says.  sunday times reported hedge funds tci atticus planning demand removal group s chairman chief executive. deutsche boerse told news agency reuters move wait may s annual general meeting. investors want deutsche return cash shareholders rather bid.  long-term investors experienced removing management. not scared take conclusion time   atticus  david slager told sunday times. however  deutsche boerse told reuters:  tci s request removal supervisory board will considered annual general meeting may 25.   sunday times reported tci drawing list heavyweight executives replace deutsche s chairman rolf breuer chief executive werner seifert. group owns 5% deutsche - enough demand extraordinary general meeting call shareholders oust german exchange s management. german law deutsche not need investor backing make takeover bid. tci atticus opposed lse bid time saying destroy shareholder value  better spent share buyback. deutsche competition pan-european bourse euronext take london exchange. many commentators suggested bidding war two break out. however  move wait march office fair trading completes investigation competition aspects pair s takeover proposals.\n",
            "WARNING:tensorflow:Model was constructed with shape (None, 120) for input Tensor(\"embedding_input:0\", shape=(None, 120), dtype=float32), but it was called on an input with incompatible shape (None, 166).\n",
            "sport : chepkemei hit big ban kenya s athletics body suspended two-time london marathon runner-up susan chepkemei competition end year.  athletics kenya (ak) issued ban chepkemei failed turn cross country training camp embu.  banned local international competitions   said ak chief isaiah kiplagat.  shall communicate decision iaaf meet directors world.  29-year-old finished second paula radcliffe 2002 2003 london races  also edged epic new york marathon contest last year.  ban will prevent two-time world half-marathon silver medallist challenging radcliffe year s london event april. global sports communications  chepkemei s management company  said wanted run world cross country championships march. ak maintained making example chepkemei warning kenyan athletes.  taking action order salvage pride   said kiplagat.  accused no teeth bite agents ruling us.  ka also threatened three-time women s short-course champion edith masai similar ban reports feigned injury avoid running cross country world championships true. masai missed national trials early february  included provisional team proviso ran regional competition. failed run event  citing leg injury.\n",
            "WARNING:tensorflow:Model was constructed with shape (None, 120) for input Tensor(\"embedding_input:0\", shape=(None, 120), dtype=float32), but it was called on an input with incompatible shape (None, 203).\n",
            "WARNING:tensorflow:5 out of the last 5 calls to <function Model.make_predict_function.<locals>.predict_function at 0x7ff37bffb158> triggered tf.function retracing. Tracing is expensive and the excessive number of tracings is likely due to passing python objects instead of tensors. Also, tf.function has experimental_relax_shapes=True option that relaxes argument shapes that can avoid unnecessary retracing. Please refer to https://www.tensorflow.org/tutorials/customization/performance#python_or_tensor_args and https://www.tensorflow.org/api_docs/python/tf/function for more details.\n",
            "politics : peace demo appeal rejected peace protestors lost landmark appeal police actions stopping anti-war demonstration days start iraq war.  appealed high court decision not unlawful police forcibly turn protestors away near raf fairford  glos  2003. police also sought overturn breach human rights ruling arising case. sitting wednesday  three appeal court judges dismissed appeals. challenging decisions two judges high court february year. followed action police  three coachloads people searched detained way raf fairford forced return london police escort. demonstrators appealed finding lord justice may mr justice harrison not unlawful police turn passengers away.  police urging lord chief justice lord justices clarke rix overturn ruling breached protestors  human rights detaining coaches. craig mackey  assistant chief constable gloucestershire police  said:  always considered responses proportionate decisions day based intelligence.  said no one coaches accepted responsibility items found coaches including body armour  smoke bomb five shields.  given circumstances  fact raf fairford  military installations uk  scene increasingly destructive disorder weeks preceding incident  police commander ground made decision turn back coaches.  day one vigorously defended decision  made genuine concern coaches allowed proceed resulted disorder criminal damage raf fairford.  fairford coach action  representing 80 people appealed police actions  say prepared take case european court human rights. action supported amnesty international liberty.\n",
            "WARNING:tensorflow:Model was constructed with shape (None, 120) for input Tensor(\"embedding_input:0\", shape=(None, 120), dtype=float32), but it was called on an input with incompatible shape (None, 294).\n",
            "WARNING:tensorflow:6 out of the last 6 calls to <function Model.make_predict_function.<locals>.predict_function at 0x7ff37bffb158> triggered tf.function retracing. Tracing is expensive and the excessive number of tracings is likely due to passing python objects instead of tensors. Also, tf.function has experimental_relax_shapes=True option that relaxes argument shapes that can avoid unnecessary retracing. Please refer to https://www.tensorflow.org/tutorials/customization/performance#python_or_tensor_args and https://www.tensorflow.org/api_docs/python/tf/function for more details.\n",
            "tech : microsoft makes anti-piracy move microsoft says clamping people running pirated versions windows operating system restricting access security features.  windows genuine advantage scheme means people will prove software genuine mid-2005. will still allow unauthorised copies get crucial security fixes via automatic updates  options  limited . microsoft releases regular security updates software protect pcs. either pcs detect updates automatically users manually download fixes microsoft s site. running pirated windows programs not access downloads  add-ons  software giant offers.  people try manually download security patches will let microsoft run automated checking procedure computer give identification number.  microsoft s regular patches releases newly-found security flaws important stop worms  viruses threats penetrating pcs. security experts concerned restricting access patches mean rise attacks threats  pcs left unprotected. graham cluley  senior consultant security firm sophos  told bbc news website positive decision.  sounds like decision allow critical security patches remain available legitimate illegitimate users windows good news everyone uses net   said. windows genuine advantage first introduced pilot scheme september 2004 english-language versions windows.  microsoft s windows operating system heavily exploited virus writers widespread constantly seeking new security loopholes take advantage of. company trying tackle security threats whilst cracking pirated software time. software piracy cost company billions  says. company announced earlier january releasing security tools clean pcs harbouring viruses spyware  90% pcs infected with. virus-fighting program  updated monthly  precursor microsoft s dedicated anti-virus software. last year introduced windows xp counterfeit project  uk-based pilot scheme  ran november december. scheme meant anyone pre-installed copies operating system pcs bought november replace counterfeit versions windows xp legal ones free. also increasing efforts squash software piracy china  norway czech republic  pirated software huge problem  offering discounts legitimate software users pirated copies windows.  china particular problem  piracy estimated 92%   said mr cluley.\n",
            "business : continental  may run cash  shares continental airlines tumbled firm warned run cash.  filing us regulators airline warned  inadequate liquidity  fails reduce wage costs $500m end february. continental also said  not make cuts  expects lose  hundreds millions dollars  2005 current market conditions. failure make cutbacks may also push reduce fleet  group said. shares fifth biggest us carrier fallen 6.87% news $10.44 1830 gmt.  without reduction wage benefit costs reasonable prospect future profitability  believe ability raise additional money financings uncertain   continental said filing us securities exchange commission (sec).  airlines faced tough conditions recent years  amid terrorism fears since 11 september world trade centre attack 2001. despite passengers returning skies  record-high fuel costs fare wars prompted competition low cost carriers taken toll. houston-based continental now debt pension payments nearly $984m must pay off year. company working streamline operations - managed save $1.1bn costs without cutting jobs. two weeks  ago group also announced able shave $48m year costs changes wage benefits us-based management clerical staff.\n",
            "sport : souness eyes summer move owen newcastle boss graeme souness lining summer move england real madrid striker michael owen.  sees owen ideal replacement alan shearer  due retire summer  although hopes persuade shearer carry on.  michael category players excite fans re monitoring   told bbc newcastle.  great centre-forward 25 don t think re ones monitoring situation real.  souness also hinted thinks shearer may carry despite stated intent retire end season. believes prospect breaking jackie milburn s club scoring record may influence striker s decision.  milburn scored 200 league cup goals 1946 1957  shearer currently 187 goals name.  without giving much away  confident will next season   said souness.  can t imagine leaving without breaking jackie milburn s scoring record.  souness also revealed tried bring back nolberto solano january transfer window. peruvian international sold aston villa year ago phone-in bbc newcastle  souness said tried re-sign  villa not interested selling.  former rangers liverpool boss also looking bring number new acquisitions current campaign completed.  m three  four five new players summer - got lots targets   said.  don t think will wait last day season say: `who going target now\n",
            "entertainment : super size wins writers  award super size director morgan spurlock won writers guild america s award documentary feature writing.  oscar-nominated film followed spurlock ate mcdonald s fast food entire month. spurlock given award special ceremony roosevelt hotel hollywood tuesday. organisers said rising popularity documentary films led honour writer documentary screenplay first time.  producer brian grazer presented award spurlock film s backers  roadside attractions  samuel goldwyn films showtime independent films. spurlock set discover effect living nothing mcdonald s month  upgrading supersize portions offered. film followed 25lb weight gain health effects body  including liver cholesterol levels. mcdonald s announced scrap  supersized  meals last year  denied move result negative publicity created spurlock s film. spurlock given award day european court human rights ruled two uk activists given legal aid long fight mcdonald s libel action. helen steel david morris  north london  dubbed  mclibel two   found guilty 1990s trial libelling company leaflet handing end case high court london ruled mcdonald s libelled awarded company £60 000 damages  later reduced £40 000 appeal. found leaflet true aspects.\n",
            "WARNING:tensorflow:Model was constructed with shape (None, 120) for input Tensor(\"embedding_input:0\", shape=(None, 120), dtype=float32), but it was called on an input with incompatible shape (None, 338).\n",
            "WARNING:tensorflow:7 out of the last 10 calls to <function Model.make_predict_function.<locals>.predict_function at 0x7ff37bffb158> triggered tf.function retracing. Tracing is expensive and the excessive number of tracings is likely due to passing python objects instead of tensors. Also, tf.function has experimental_relax_shapes=True option that relaxes argument shapes that can avoid unnecessary retracing. Please refer to https://www.tensorflow.org/tutorials/customization/performance#python_or_tensor_args and https://www.tensorflow.org/api_docs/python/tf/function for more details.\n",
            "tech : dublin hi-tech labs shut dublin s hi-tech research laboratory  media labs europe  shut down.  research centre  started irish government massachusetts institute technology  hotbed technology concepts. since opening 2000  centre developed ideas  implants teeth  also aimed digital hub start-ups area. centre supposed self-funded  failed attract private cash injection needs. statement  media labs europe said decision close taken neither irish government prestigious us-based massachusetts institute technology (mit) willing fund it. prime minister bertie ahern wanted centre become big draw smaller hi-tech companies  attempt regenerate area.  three dozen small firms attracted area  thought effects dot.com recession damaged labs  long-term survival. labs needed 10 million euros (us$13 million) year corporate sponsors survive.  end  deep long recession   said simon jones  labs  managing director. ian pearson  bt s futurologist  told bbc news website closure  real shame . bt just one companies worked labs  looking rfid tag developments video conferencing.  lot talented  creative people came great ideas helping ensure greater benefits technology society.  no doubt individuals will quickly snapped research labs  synergies working team will lost.   noel dempsey  government s communications minister  said mr ahern  committed  project.   know  disappointed come this. time seemed right thing   said.  unfortunately model not sustainable one current climate.   five years  innovative unusual ideas technologies developed. recent months  14 patent applications filed labs. many concepts fed science  engineering  psychology well technology  thought ideas commercially viable near-term. several research teams explored humans react technologies ways entirely different. human connectedness group  example  developed iband  bracelet stored exchanged information relationships. information beamed another wearer two people shook hands. projects looked using human senses  like touch  interact devoices embedded environment  body itself. one project examined brainwaves directly control computer game. labs  set old guinness brewery  housed around 100 people  made staff  researchers  students  collaborators part-time undergraduate students. thought 50 people will lose jobs labs close 1 february. according latest accounts  media lab europe said spent 8.16 million euros (about us$10.6 million) 2003 raised just 2.56 million euros (us$3.3 million).\n"
          ],
          "name": "stdout"
        }
      ]
    },
    {
      "cell_type": "code",
      "metadata": {
        "id": "rhzWinSs7hJJ",
        "colab_type": "code",
        "colab": {
          "base_uri": "https://localhost:8080/",
          "height": 105
        },
        "outputId": "fb126227-7da6-4462-e423-a8b09037f256"
      },
      "source": [
        "sen = input(\"Enter a review sentence: \")\n",
        "input_sentence_seq = tokenizer.texts_to_sequences([sen])\n",
        "input_padded_seq = pad_sequences(input_sentence_seq)\n",
        "predicted_token = np.argmax(model.predict(input_padded_seq))\n",
        "predicted_category = classlist[predicted_token-1]\n",
        "print(predicted_category)"
      ],
      "execution_count": 38,
      "outputs": [
        {
          "output_type": "stream",
          "text": [
            "Enter a review sentence: But Tiger Global claimed tax benefit under the Double Tax Avoidance Agreement (DTAA) between India and Mauritius. For starters, the DTAA is an agreement between two countries, with the objective of avoiding taxation of the same income in both countries. As per Article 13 of the DTAA between India and Mauritius, the capital gains on the sale of shares in an Indian company will not be taxed in India, if investments were made before April 1, 2017.\n",
            "WARNING:tensorflow:Model was constructed with shape (None, 120) for input Tensor(\"embedding_input:0\", shape=(None, 120), dtype=float32), but it was called on an input with incompatible shape (None, 77).\n",
            "WARNING:tensorflow:8 out of the last 11 calls to <function Model.make_predict_function.<locals>.predict_function at 0x7ff37bffb158> triggered tf.function retracing. Tracing is expensive and the excessive number of tracings is likely due to passing python objects instead of tensors. Also, tf.function has experimental_relax_shapes=True option that relaxes argument shapes that can avoid unnecessary retracing. Please refer to https://www.tensorflow.org/tutorials/customization/performance#python_or_tensor_args and https://www.tensorflow.org/api_docs/python/tf/function for more details.\n",
            "business\n"
          ],
          "name": "stdout"
        }
      ]
    }
  ]
}